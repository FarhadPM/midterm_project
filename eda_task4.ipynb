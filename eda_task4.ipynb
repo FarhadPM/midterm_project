{
 "cells": [
  {
   "cell_type": "markdown",
   "id": "529a08dc-7e58-4731-9dba-66a10093a5fd",
   "metadata": {},
   "source": [
    "## Exploratory Data Analysis"
   ]
  },
  {
   "cell_type": "markdown",
   "id": "f60ff558-a853-4f0d-a838-c4efe5757546",
   "metadata": {},
   "source": [
    "#### **Task 4**: How taxi times changing during the day? Does higher traffic lead to bigger taxi times?"
   ]
  },
  {
   "cell_type": "code",
   "execution_count": 1,
   "id": "7d3b7763-ebd9-4aa1-85c9-6a16187e31f1",
   "metadata": {},
   "outputs": [],
   "source": [
    "# import libraries\n",
    "\n",
    "import numpy as np\n",
    "import pandas as pd"
   ]
  },
  {
   "cell_type": "code",
   "execution_count": 6,
   "id": "eae5967d-2cc9-4c89-b9fe-5ea29217c284",
   "metadata": {},
   "outputs": [],
   "source": [
    "# read csv data into dataframes\n",
    "df_sample_flights = pd.read_csv('./data/flights_sample_data_large')"
   ]
  },
  {
   "cell_type": "code",
   "execution_count": 3,
   "id": "8ccc8760-4a0f-483f-bba9-b569148533b4",
   "metadata": {},
   "outputs": [
    {
     "data": {
      "text/plain": [
       "fl_date\n",
       "2018-11-08    677\n",
       "2018-04-13    649\n",
       "2019-11-07    646\n",
       "2019-12-28    644\n",
       "2019-01-02    640\n",
       "             ... \n",
       "2018-09-01    117\n",
       "2019-04-13     60\n",
       "2019-06-01     60\n",
       "2019-09-28     59\n",
       "2018-01-06     55\n",
       "Name: mkt_unique_carrier, Length: 730, dtype: int64"
      ]
     },
     "execution_count": 3,
     "metadata": {},
     "output_type": "execute_result"
    }
   ],
   "source": [
    "# number of flights per day\n",
    "df_sample_flights.groupby('fl_date').count()['mkt_unique_carrier'].sort_values(ascending = False)"
   ]
  },
  {
   "cell_type": "code",
   "execution_count": 4,
   "id": "82f5f78d-071b-4aa6-831f-a6a101a283ab",
   "metadata": {},
   "outputs": [
    {
     "data": {
      "text/plain": [
       "fl_date\n",
       "2018-11-08    11958.0\n",
       "2019-01-02    11728.0\n",
       "2019-12-28    11119.0\n",
       "2018-09-25    11109.0\n",
       "2018-01-17    11085.0\n",
       "               ...   \n",
       "2018-09-01     1742.0\n",
       "2018-01-06     1042.0\n",
       "2019-06-01     1029.0\n",
       "2019-09-28      965.0\n",
       "2019-04-13      774.0\n",
       "Name: taxi_out, Length: 730, dtype: float64"
      ]
     },
     "execution_count": 4,
     "metadata": {},
     "output_type": "execute_result"
    }
   ],
   "source": [
    "# total taxi_out time per day\n",
    "df_sample_flights.groupby('fl_date').sum()['taxi_out'].sort_values(ascending = False)"
   ]
  },
  {
   "cell_type": "code",
   "execution_count": 5,
   "id": "90b9230c-0388-4aed-9533-389ccc82f5a8",
   "metadata": {},
   "outputs": [
    {
     "data": {
      "text/plain": [
       "fl_date\n",
       "2019-12-28    5437.0\n",
       "2019-05-17    4971.0\n",
       "2019-01-02    4941.0\n",
       "2019-07-23    4885.0\n",
       "2019-11-07    4873.0\n",
       "               ...  \n",
       "2019-10-31     638.0\n",
       "2019-09-28     480.0\n",
       "2018-01-06     466.0\n",
       "2019-06-01     422.0\n",
       "2019-04-13     305.0\n",
       "Name: taxi_in, Length: 730, dtype: float64"
      ]
     },
     "execution_count": 5,
     "metadata": {},
     "output_type": "execute_result"
    }
   ],
   "source": [
    "# total taxi_in time per day\n",
    "df_sample_flights.groupby('fl_date').sum()['taxi_in'].sort_values(ascending = False)"
   ]
  },
  {
   "cell_type": "markdown",
   "id": "3d885bc0-6042-4206-9d86-39a864b4586e",
   "metadata": {},
   "source": [
    "#### **Conclusion**: Higher traffic leads to bigger taxi times."
   ]
  }
 ],
 "metadata": {
  "kernelspec": {
   "display_name": "Python 3 (ipykernel)",
   "language": "python",
   "name": "python3"
  },
  "language_info": {
   "codemirror_mode": {
    "name": "ipython",
    "version": 3
   },
   "file_extension": ".py",
   "mimetype": "text/x-python",
   "name": "python",
   "nbconvert_exporter": "python",
   "pygments_lexer": "ipython3",
   "version": "3.8.12"
  }
 },
 "nbformat": 4,
 "nbformat_minor": 5
}
