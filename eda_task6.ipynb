{
 "cells": [
  {
   "cell_type": "markdown",
   "id": "9808f7f3-fb24-49c8-a00e-3531c6fad845",
   "metadata": {},
   "source": [
    "## Exploratory Data Analysis"
   ]
  },
  {
   "cell_type": "markdown",
   "id": "1765bbcc-34c6-4f2c-8ac6-71c412a0d6ff",
   "metadata": {},
   "source": [
    "#### **Task 6**: How many states cover 50% of US air traffic? "
   ]
  },
  {
   "cell_type": "code",
   "execution_count": 1,
   "id": "a8c8f0cf-a1ab-4750-8f1e-b0299d70f027",
   "metadata": {},
   "outputs": [],
   "source": [
    "# import libraries\n",
    "\n",
    "import numpy as np\n",
    "import pandas as pd"
   ]
  },
  {
   "cell_type": "code",
   "execution_count": 14,
   "id": "263faefa-af94-475b-895d-4ec7358fd264",
   "metadata": {},
   "outputs": [],
   "source": [
    "# read csv data into dataframes\n",
    "df_sample_flights = pd.read_csv('./data/flights_sample_data_large')"
   ]
  },
  {
   "cell_type": "code",
   "execution_count": 3,
   "id": "5c5335b8-87d0-4905-b78f-af722f7e1402",
   "metadata": {},
   "outputs": [],
   "source": [
    "# extracting origin and destination state names\n",
    "\n",
    "df_sample_flights['origin_state_name'] = df_sample_flights['origin_city_name'].str[-2:]\n",
    "df_sample_flights['dest_state_name'] = df_sample_flights['dest_city_name'].str[-2:]"
   ]
  },
  {
   "cell_type": "code",
   "execution_count": 4,
   "id": "4da1444b-d27d-4b4c-a19c-b210e970eb87",
   "metadata": {},
   "outputs": [
    {
     "data": {
      "text/plain": [
       "count     241348\n",
       "unique        53\n",
       "top           CA\n",
       "freq       26449\n",
       "Name: origin_state_name, dtype: object"
      ]
     },
     "execution_count": 4,
     "metadata": {},
     "output_type": "execute_result"
    }
   ],
   "source": [
    "df_sample_flights['origin_state_name'].describe()"
   ]
  },
  {
   "cell_type": "code",
   "execution_count": 5,
   "id": "cb6503f7-287f-457e-8d31-05cc806d7b14",
   "metadata": {},
   "outputs": [
    {
     "data": {
      "text/plain": [
       "count     241348\n",
       "unique        53\n",
       "top           CA\n",
       "freq       26615\n",
       "Name: dest_state_name, dtype: object"
      ]
     },
     "execution_count": 5,
     "metadata": {},
     "output_type": "execute_result"
    }
   ],
   "source": [
    "df_sample_flights['dest_state_name'].describe()"
   ]
  },
  {
   "cell_type": "code",
   "execution_count": 6,
   "id": "cdddb6d6-da97-497d-8521-b9e65597cda5",
   "metadata": {},
   "outputs": [],
   "source": [
    "# traffic contains origin and destination\n",
    "\n",
    "total_flights = 241348\n",
    "total_traffic = total_flights * 2"
   ]
  },
  {
   "cell_type": "code",
   "execution_count": 7,
   "id": "22bf01fe-5d82-4131-931a-e7694a5766c5",
   "metadata": {},
   "outputs": [],
   "source": [
    "origin_series = df_sample_flights.groupby('origin_state_name').count()['fl_date'].sort_values(ascending = False)"
   ]
  },
  {
   "cell_type": "code",
   "execution_count": 8,
   "id": "88e01117-08a9-4157-a064-a866431cb5e1",
   "metadata": {},
   "outputs": [
    {
     "data": {
      "text/plain": [
       "origin_state_name\n",
       "CA    26449\n",
       "TX    23790\n",
       "FL    17125\n",
       "IL    15074\n",
       "GA    12581\n",
       "Name: fl_date, dtype: int64"
      ]
     },
     "execution_count": 8,
     "metadata": {},
     "output_type": "execute_result"
    }
   ],
   "source": [
    "origin_series.head(5)"
   ]
  },
  {
   "cell_type": "code",
   "execution_count": 9,
   "id": "36d9df60-9779-4307-9064-419cbb7f63ec",
   "metadata": {},
   "outputs": [],
   "source": [
    "dest_series = df_sample_flights.groupby('dest_state_name').count()['fl_date'].sort_values(ascending = False)"
   ]
  },
  {
   "cell_type": "code",
   "execution_count": 10,
   "id": "b6c2f3b5-720c-40f8-9496-d0f873a6d123",
   "metadata": {},
   "outputs": [
    {
     "data": {
      "text/plain": [
       "dest_state_name\n",
       "CA    26615\n",
       "TX    23663\n",
       "FL    17467\n",
       "IL    15463\n",
       "GA    12704\n",
       "Name: fl_date, dtype: int64"
      ]
     },
     "execution_count": 10,
     "metadata": {},
     "output_type": "execute_result"
    }
   ],
   "source": [
    "dest_series.head(5)"
   ]
  },
  {
   "cell_type": "code",
   "execution_count": 11,
   "id": "f51891e6-4dac-4a09-b57a-bbeec7414a74",
   "metadata": {},
   "outputs": [],
   "source": [
    "# saving total traffic for each state in a dictionary: dict_states_traffic\n",
    "\n",
    "lst_states = []\n",
    "i = 0\n",
    "\n",
    "while i < len(origin_series.index):\n",
    "    state = origin_series.index[i]\n",
    "    flights_state = origin_series[state] + dest_series[state]\n",
    "    tpl_state = (state, flights_state)\n",
    "    lst_state = [tpl_state]\n",
    "    lst_states += lst_state\n",
    "    i += 1\n",
    "    \n",
    "dict_states_traffic = dict(lst_states)"
   ]
  },
  {
   "cell_type": "code",
   "execution_count": 12,
   "id": "d9ccfd2a-6c41-43c9-a1c7-d42e6f66fc2d",
   "metadata": {},
   "outputs": [],
   "source": [
    "# finding the list of states contributing to the 50% of US air traffic\n",
    "\n",
    "traffic_percentage = 0\n",
    "accumulated_traffic = 0\n",
    "lst_50_percent = []\n",
    "\n",
    "for state in dict_states_traffic:\n",
    "    \n",
    "    accumulated_traffic += dict_states_traffic[state] \n",
    "    traffic_percentage = accumulated_traffic / total_traffic\n",
    "    \n",
    "    lst_50_percent += [state]\n",
    "    \n",
    "    if traffic_percentage >= 0.50:\n",
    "        break"
   ]
  },
  {
   "cell_type": "code",
   "execution_count": 13,
   "id": "b1b7de11-177a-4e71-9159-ab88f4d1a3b7",
   "metadata": {},
   "outputs": [
    {
     "data": {
      "text/plain": [
       "['CA', 'TX', 'FL', 'IL', 'GA', 'NY', 'NC', 'CO']"
      ]
     },
     "execution_count": 13,
     "metadata": {},
     "output_type": "execute_result"
    }
   ],
   "source": [
    "# list of states contributing to the 50% of US air traffic\n",
    "lst_50_percent"
   ]
  },
  {
   "cell_type": "markdown",
   "id": "cb7574af-f964-4e5d-9848-cb32db83015e",
   "metadata": {},
   "source": [
    "#### **Conclusion**: States contobuting to the 50% of US air traffic are CA, TX, FL, IL, GA, NY, NC, and CO."
   ]
  }
 ],
 "metadata": {
  "kernelspec": {
   "display_name": "Python 3 (ipykernel)",
   "language": "python",
   "name": "python3"
  },
  "language_info": {
   "codemirror_mode": {
    "name": "ipython",
    "version": 3
   },
   "file_extension": ".py",
   "mimetype": "text/x-python",
   "name": "python",
   "nbconvert_exporter": "python",
   "pygments_lexer": "ipython3",
   "version": "3.8.12"
  }
 },
 "nbformat": 4,
 "nbformat_minor": 5
}
