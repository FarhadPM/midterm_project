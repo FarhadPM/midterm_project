{
 "cells": [
  {
   "cell_type": "markdown",
   "id": "3ac05688-4c0c-461e-bda6-113ba9571a8a",
   "metadata": {},
   "source": [
    "## Exploratory Data Analysis"
   ]
  },
  {
   "cell_type": "markdown",
   "id": "4d82bbf2-a105-4997-99c0-547a90ea42ed",
   "metadata": {},
   "source": [
    "#### **Task 1**: Test the hypothesis that the delay is from Normal distribution. and that **mean** of the delay is 0. Be careful about the outliers."
   ]
  },
  {
   "cell_type": "code",
   "execution_count": 1,
   "id": "2e5de38f-06f5-4f24-b43a-b5f825345e93",
   "metadata": {},
   "outputs": [],
   "source": [
    "# import libraries\n",
    "\n",
    "import numpy as np\n",
    "import pandas as pd"
   ]
  },
  {
   "cell_type": "code",
   "execution_count": 5,
   "id": "24f427a5-48ec-45d3-96ed-56618c3a4b8b",
   "metadata": {},
   "outputs": [],
   "source": [
    "# read csv data into dataframes\n",
    "df_sample_flights = pd.read_csv('./data/flights_sample_data_large')"
   ]
  },
  {
   "cell_type": "code",
   "execution_count": 3,
   "id": "ed6783b1-ba07-427e-9240-a1bee6a3e68f",
   "metadata": {},
   "outputs": [
    {
     "data": {
      "text/plain": [
       "count    237414.000000\n",
       "mean         10.423370\n",
       "std          48.129306\n",
       "min         -49.000000\n",
       "25%          -6.000000\n",
       "50%          -2.000000\n",
       "75%           6.000000\n",
       "max        1674.000000\n",
       "Name: dep_delay, dtype: float64"
      ]
     },
     "execution_count": 3,
     "metadata": {},
     "output_type": "execute_result"
    }
   ],
   "source": [
    "df_sample_flights['dep_delay'].describe()"
   ]
  },
  {
   "cell_type": "code",
   "execution_count": 4,
   "id": "898208f7-54e2-4c48-99f7-6af516e6d079",
   "metadata": {},
   "outputs": [
    {
     "data": {
      "text/plain": [
       "count    236685.000000\n",
       "mean          5.358176\n",
       "std          50.077443\n",
       "min         -77.000000\n",
       "25%         -15.000000\n",
       "50%          -6.000000\n",
       "75%           8.000000\n",
       "max        1652.000000\n",
       "Name: arr_delay, dtype: float64"
      ]
     },
     "execution_count": 4,
     "metadata": {},
     "output_type": "execute_result"
    }
   ],
   "source": [
    "df_sample_flights['arr_delay'].describe()"
   ]
  }
 ],
 "metadata": {
  "kernelspec": {
   "display_name": "Python 3 (ipykernel)",
   "language": "python",
   "name": "python3"
  },
  "language_info": {
   "codemirror_mode": {
    "name": "ipython",
    "version": 3
   },
   "file_extension": ".py",
   "mimetype": "text/x-python",
   "name": "python",
   "nbconvert_exporter": "python",
   "pygments_lexer": "ipython3",
   "version": "3.8.12"
  }
 },
 "nbformat": 4,
 "nbformat_minor": 5
}
