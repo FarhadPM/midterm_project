{
 "cells": [
  {
   "cell_type": "markdown",
   "id": "78632c85-ab98-455c-a093-0323bb3c6e5f",
   "metadata": {},
   "source": [
    "## Exploratory Data Analysis"
   ]
  },
  {
   "cell_type": "markdown",
   "id": "a6e1459d-fae6-442c-bb45-a25d97a8b29d",
   "metadata": {},
   "source": [
    "#### **Task 2**: Is average/median monthly delay different during the year? If yes, which are months with the biggest delays and what could be the reason?"
   ]
  },
  {
   "cell_type": "code",
   "execution_count": 1,
   "id": "e78f64d1-5f78-4f8f-b230-63f2f5151de0",
   "metadata": {},
   "outputs": [],
   "source": [
    "# import libraries\n",
    "\n",
    "import numpy as np\n",
    "import pandas as pd"
   ]
  },
  {
   "cell_type": "code",
   "execution_count": 6,
   "id": "e1e0f451-324e-4a93-bac2-aa6e8af5efec",
   "metadata": {},
   "outputs": [],
   "source": [
    "# read csv data into dataframes\n",
    "df_sample_flights = pd.read_csv('./data/flights_sample_data_large')"
   ]
  },
  {
   "cell_type": "code",
   "execution_count": 3,
   "id": "dec3d9ab-9d71-4cb1-98a3-b53de7809f07",
   "metadata": {},
   "outputs": [],
   "source": [
    "# adding a new feature (fl_date_month), representing the month of the flight date (fl_date)\n",
    "df_sample_flights['fl_date_month'] = df_sample_flights['fl_date'].str[5:7]"
   ]
  },
  {
   "cell_type": "code",
   "execution_count": 4,
   "id": "acba9ff9-2ffd-44d5-9a41-d8c09cc8499e",
   "metadata": {},
   "outputs": [
    {
     "data": {
      "text/plain": [
       "fl_date_month\n",
       "07    13.680847\n",
       "06    13.630319\n",
       "08    13.069237\n",
       "12    11.392631\n",
       "02    11.290999\n",
       "05    11.161876\n",
       "01     9.688263\n",
       "04     8.724172\n",
       "11     8.432232\n",
       "03     8.165175\n",
       "09     8.123348\n",
       "10     7.515091\n",
       "Name: dep_delay, dtype: float64"
      ]
     },
     "execution_count": 4,
     "metadata": {},
     "output_type": "execute_result"
    }
   ],
   "source": [
    "# average departure delay\n",
    "df_sample_flights.groupby('fl_date_month').mean()['dep_delay'].sort_values(ascending = False)"
   ]
  },
  {
   "cell_type": "code",
   "execution_count": 5,
   "id": "96cb812c-835a-4078-b420-974f148a389b",
   "metadata": {},
   "outputs": [
    {
     "data": {
      "text/plain": [
       "fl_date_month\n",
       "06    9.396818\n",
       "07    8.803589\n",
       "08    8.681339\n",
       "02    6.235916\n",
       "05    6.057637\n",
       "12    5.729555\n",
       "01    3.786467\n",
       "04    3.649523\n",
       "11    3.385836\n",
       "09    2.973338\n",
       "10    2.802312\n",
       "03    2.569528\n",
       "Name: arr_delay, dtype: float64"
      ]
     },
     "execution_count": 5,
     "metadata": {},
     "output_type": "execute_result"
    }
   ],
   "source": [
    "# average arrival delay\n",
    "df_sample_flights.groupby('fl_date_month').mean()['arr_delay'].sort_values(ascending = False)"
   ]
  },
  {
   "cell_type": "markdown",
   "id": "b1e3a791-f2c1-4341-b76a-5b353af7c7e0",
   "metadata": {},
   "source": [
    "#### **Conclusion**: Average monthly delay is different during the year, and months in the summer have the highest amount of delays as more people travels during summer. It shows the \"seasonality\". Months in the Summer (June, July, and August) are in the top."
   ]
  }
 ],
 "metadata": {
  "kernelspec": {
   "display_name": "Python 3 (ipykernel)",
   "language": "python",
   "name": "python3"
  },
  "language_info": {
   "codemirror_mode": {
    "name": "ipython",
    "version": 3
   },
   "file_extension": ".py",
   "mimetype": "text/x-python",
   "name": "python",
   "nbconvert_exporter": "python",
   "pygments_lexer": "ipython3",
   "version": "3.8.12"
  }
 },
 "nbformat": 4,
 "nbformat_minor": 5
}
